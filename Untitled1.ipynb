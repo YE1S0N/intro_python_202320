{
  "nbformat": 4,
  "nbformat_minor": 0,
  "metadata": {
    "colab": {
      "provenance": [],
      "authorship_tag": "ABX9TyN5kMn//roFfh3lrh8VPPJs",
      "include_colab_link": true
    },
    "kernelspec": {
      "name": "python3",
      "display_name": "Python 3"
    },
    "language_info": {
      "name": "python"
    }
  },
  "cells": [
    {
      "cell_type": "markdown",
      "metadata": {
        "id": "view-in-github",
        "colab_type": "text"
      },
      "source": [
        "<a href=\"https://colab.research.google.com/github/YE1S0N/intro_python_202320/blob/main/Untitled1.ipynb\" target=\"_parent\"><img src=\"https://colab.research.google.com/assets/colab-badge.svg\" alt=\"Open In Colab\"/></a>"
      ]
    },
    {
      "cell_type": "markdown",
      "source": [],
      "metadata": {
        "id": "FAxUOePdMbGJ"
      }
    },
    {
      "cell_type": "markdown",
      "source": [
        "# introduccion a python\n",
        "## curso de programacion y algoritmia UPB 202320\n",
        "- Nombre: Yeison De Leon\n",
        "- ID: 000491649\n",
        "- Email: yeison.deupb.edu.co\n",
        "\n",
        " esta es la expresion de la lineade la recta\n",
        " $$y: mx + b$$\n",
        "\n",
        " donde $x$ es la posicion\n",
        "\n"
      ],
      "metadata": {
        "id": "_AmLGLP9Ndd-"
      }
    },
    {
      "cell_type": "code",
      "source": [],
      "metadata": {
        "id": "Jbn1UCpROVBE"
      },
      "execution_count": null,
      "outputs": []
    }
  ]
}