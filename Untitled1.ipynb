{
  "nbformat": 4,
  "nbformat_minor": 0,
  "metadata": {
    "colab": {
      "provenance": [],
      "authorship_tag": "ABX9TyOQmdkVd83m+eZFOhEEdv2v",
      "include_colab_link": true
    },
    "kernelspec": {
      "name": "python3",
      "display_name": "Python 3"
    },
    "language_info": {
      "name": "python"
    }
  },
  "cells": [
    {
      "cell_type": "markdown",
      "metadata": {
        "id": "view-in-github",
        "colab_type": "text"
      },
      "source": [
        "<a href=\"https://colab.research.google.com/github/YE1S0N/intro_python_202320/blob/main/Untitled1.ipynb\" target=\"_parent\"><img src=\"https://colab.research.google.com/assets/colab-badge.svg\" alt=\"Open In Colab\"/></a>"
      ]
    },
    {
      "cell_type": "markdown",
      "source": [],
      "metadata": {
        "id": "FAxUOePdMbGJ"
      }
    },
    {
      "cell_type": "markdown",
      "source": [
        "# introduccion a python\n",
        "## curso de programacion y algoritmia UPB 202320\n",
        "- Nombre: Yeison De Leon\n",
        "- ID: 000491649\n",
        "- Email: yeison.deupb.edu.co\n",
        "\n",
        " esta es la expresion de la lineade la recta\n",
        " $$y: mx + b$$\n",
        "\n",
        " donde $x$ es la posicion\n",
        "\n"
      ],
      "metadata": {
        "id": "_AmLGLP9Ndd-"
      }
    },
    {
      "cell_type": "code",
      "source": [],
      "metadata": {
        "id": "Jbn1UCpROVBE"
      },
      "execution_count": null,
      "outputs": []
    },
    {
      "cell_type": "code",
      "source": [
        "# comentarios\n",
        "\n",
        "name = 'yeison'\n",
        "print(\"hello,\",name)"
      ],
      "metadata": {
        "colab": {
          "base_uri": "https://localhost:8080/"
        },
        "id": "NqBY9cTxPTC0",
        "outputId": "0e5f55af-3203-4844-9255-b4ebc47224aa"
      },
      "execution_count": 11,
      "outputs": [
        {
          "output_type": "stream",
          "name": "stdout",
          "text": [
            "hello, yeison\n"
          ]
        }
      ]
    },
    {
      "cell_type": "code",
      "source": [
        "# comentarios\n",
        "\n",
        "firstname = 'Yeison'\n",
        "lastname = 'De Leon,'\n",
        "age = '18 años'\n",
        "food = 'el arroz'\n",
        "\n",
        "print(\"Mi nombre es\",firstname,lastname,\"tengo\",age, \"y me gusta\",food)"
      ],
      "metadata": {
        "colab": {
          "base_uri": "https://localhost:8080/"
        },
        "id": "TddkeCY7QZjh",
        "outputId": "8448514e-91a9-4353-d6d3-9201b859d691"
      },
      "execution_count": 22,
      "outputs": [
        {
          "output_type": "stream",
          "name": "stdout",
          "text": [
            "Mi nombre es Yeison De Leon, tengo 18 años y me gusta el arroz\n"
          ]
        }
      ]
    },
    {
      "cell_type": "code",
      "source": [],
      "metadata": {
        "id": "xI8TBAH1TjXc"
      },
      "execution_count": null,
      "outputs": []
    }
  ]
}