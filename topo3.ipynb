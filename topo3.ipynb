{
  "nbformat": 4,
  "nbformat_minor": 0,
  "metadata": {
    "colab": {
      "provenance": [],
      "authorship_tag": "ABX9TyNc/Wrs6h57fhuTwzlCpm+k",
      "include_colab_link": true
    },
    "kernelspec": {
      "name": "python3",
      "display_name": "Python 3"
    },
    "language_info": {
      "name": "python"
    }
  },
  "cells": [
    {
      "cell_type": "markdown",
      "metadata": {
        "id": "view-in-github",
        "colab_type": "text"
      },
      "source": [
        "<a href=\"https://colab.research.google.com/github/YE1S0N/intro_python_202320/blob/main/topo3.ipynb\" target=\"_parent\"><img src=\"https://colab.research.google.com/assets/colab-badge.svg\" alt=\"Open In Colab\"/></a>"
      ]
    },
    {
      "cell_type": "markdown",
      "source": [],
      "metadata": {
        "id": "FAxUOePdMbGJ"
      }
    },
    {
      "cell_type": "markdown",
      "source": [
        "# introduccion a python\n",
        "## curso de programacion y algoritmia UPB 202320\n",
        "- Nombre: Yeison De Leon\n",
        "- ID: 000491649\n",
        "- Email: yeison.deupb.edu.co\n",
        "\n",
        " esta es la expresion de la lineade la recta\n",
        " $$y: mx + b$$\n",
        "\n",
        " donde $x$ es la posicion\n",
        "\n"
      ],
      "metadata": {
        "id": "_AmLGLP9Ndd-"
      }
    },
    {
      "cell_type": "code",
      "source": [],
      "metadata": {
        "id": "Jbn1UCpROVBE"
      },
      "execution_count": null,
      "outputs": []
    },
    {
      "cell_type": "code",
      "source": [
        "# comentarios\n",
        "\n",
        "name = 'yeison'\n",
        "print(\"hello,\",name)"
      ],
      "metadata": {
        "colab": {
          "base_uri": "https://localhost:8080/"
        },
        "id": "NqBY9cTxPTC0",
        "outputId": "0e5f55af-3203-4844-9255-b4ebc47224aa"
      },
      "execution_count": null,
      "outputs": [
        {
          "output_type": "stream",
          "name": "stdout",
          "text": [
            "hello, yeison\n"
          ]
        }
      ]
    },
    {
      "cell_type": "code",
      "source": [
        "# comentarios\n",
        "\n",
        "firstname = 'Yeison'\n",
        "lastname = 'De Leon,'\n",
        "age = '18 años'\n",
        "food = 'el arroz'\n",
        "\n",
        "print(\"Mi nombre es\",firstname,lastname,\"tengo\",age, \"y me gusta\",food)"
      ],
      "metadata": {
        "colab": {
          "base_uri": "https://localhost:8080/"
        },
        "id": "TddkeCY7QZjh",
        "outputId": "8448514e-91a9-4353-d6d3-9201b859d691"
      },
      "execution_count": null,
      "outputs": [
        {
          "output_type": "stream",
          "name": "stdout",
          "text": [
            "Mi nombre es Yeison De Leon, tengo 18 años y me gusta el arroz\n"
          ]
        }
      ]
    },
    {
      "cell_type": "code",
      "source": [
        "a = 3\n",
        "b = 4.5\n",
        "c = a + b\n",
        "print(type(a))\n",
        "print(type(b))\n",
        "print(c)\n",
        "c = c * a\n",
        "print(c)\n",
        "c = int(c / b)\n",
        "print(c)\n",
        "d = 0.3\n",
        "c /=0.3\n",
        "print(c)"
      ],
      "metadata": {
        "id": "xI8TBAH1TjXc",
        "outputId": "7377c384-66ce-4beb-8b42-46eeb1a75a4b",
        "colab": {
          "base_uri": "https://localhost:8080/"
        }
      },
      "execution_count": 11,
      "outputs": [
        {
          "output_type": "stream",
          "name": "stdout",
          "text": [
            "<class 'int'>\n",
            "<class 'float'>\n",
            "7.5\n",
            "22.5\n",
            "5\n",
            "16.666666666666668\n"
          ]
        }
      ]
    },
    {
      "cell_type": "code",
      "source": [
        "m = 5\n",
        "b = 2\n",
        "x = -3\n",
        "y = m*x + b\n",
        "print(x,'/---/', y)\n"
      ],
      "metadata": {
        "id": "WgEtu9MJZewn",
        "outputId": "68619cc1-3f43-4dcf-833e-72aa48a8008c",
        "colab": {
          "base_uri": "https://localhost:8080/"
        }
      },
      "execution_count": 20,
      "outputs": [
        {
          "output_type": "stream",
          "name": "stdout",
          "text": [
            "-3 /---/ -13\n"
          ]
        }
      ]
    },
    {
      "cell_type": "code",
      "source": [
        "a = 0.1\n",
        "b = -2\n",
        "c = 0.5\n",
        "x = 2\n",
        "y = x**2 + 2*x - 8\n",
        "print(\"x\",y)\n",
        "t = -3*x**2 -8\n",
        "print(\"x\",t)\n",
        "disc = (b**2 - 4 * a * c) ** (1/2)\n",
        "x_p = (-b + disc) / (2 * a)\n",
        "x_n = (-b - disc) / (2 * a)\n",
        "print('x_p', x_p)\n",
        "print('x_n',x_n)\n",
        "print('-' *10)\n"
      ],
      "metadata": {
        "id": "Ht8TtV-Fdb99",
        "outputId": "5e9b52f5-d568-462d-cc86-2e746eccf2b8",
        "colab": {
          "base_uri": "https://localhost:8080/"
        }
      },
      "execution_count": 31,
      "outputs": [
        {
          "output_type": "stream",
          "name": "stdout",
          "text": [
            "x 0\n",
            "x -20\n",
            "x_p 19.74679434480896\n",
            "x_n 0.25320565519103666\n",
            "----------\n"
          ]
        }
      ]
    },
    {
      "cell_type": "code",
      "source": [],
      "metadata": {
        "id": "YZT3_NPKfd_p"
      },
      "execution_count": 36,
      "outputs": []
    },
    {
      "cell_type": "code",
      "source": [
        "a = 3\n",
        "b = 5\n",
        "print(a == b)\n",
        "print(a != b)\n",
        "print( a > b)\n",
        "print((a == b)  and (b + 3 > 5))\n",
        "print(a < b  or b + 3 > 5)\n",
        "print(not (a == b))\n"
      ],
      "metadata": {
        "id": "m6ScpJ3CkKZ2",
        "outputId": "90683722-660d-4204-9ea3-730edf212856",
        "colab": {
          "base_uri": "https://localhost:8080/"
        }
      },
      "execution_count": 48,
      "outputs": [
        {
          "output_type": "stream",
          "name": "stdout",
          "text": [
            "False\n",
            "True\n",
            "False\n",
            "False\n",
            "True\n",
            "True\n"
          ]
        }
      ]
    },
    {
      "cell_type": "code",
      "source": [],
      "metadata": {
        "id": "0riak4sFlswW"
      },
      "execution_count": null,
      "outputs": []
    }
  ]
}